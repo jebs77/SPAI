{
 "cells": [
  {
   "cell_type": "code",
   "execution_count": 1,
   "id": "207053e3",
   "metadata": {},
   "outputs": [
    {
     "name": "stderr",
     "output_type": "stream",
     "text": [
      "2023-12-01 10:03:38.516684: I tensorflow/core/platform/cpu_feature_guard.cc:182] This TensorFlow binary is optimized to use available CPU instructions in performance-critical operations.\n",
      "To enable the following instructions: SSE4.1 SSE4.2 AVX AVX2 FMA, in other operations, rebuild TensorFlow with the appropriate compiler flags.\n",
      "2023-12-01 10:03:39.899365: I tensorflow/core/common_runtime/process_util.cc:146] Creating new thread pool with default inter op setting: 2. Tune using inter_op_parallelism_threads for best performance.\n",
      "/home/rcw/anaconda3/lib/python3.11/site-packages/ot/backend.py:2998: UserWarning: To use TensorflowBackend, you need to activate the tensorflow numpy API. You can activate it by running: \n",
      "from tensorflow.python.ops.numpy_ops import np_config\n",
      "np_config.enable_numpy_behavior()\n",
      "  register_backend(TensorflowBackend())\n"
     ]
    }
   ],
   "source": [
    "import sys\n",
    "\n",
    "import SPAIdermenLib as SPAI\n",
    "import matplotlib.pyplot as plt\n",
    "import numpy as np\n",
    "import cvxpy as cp"
   ]
  },
  {
   "cell_type": "code",
   "execution_count": 2,
   "id": "e2798bc8",
   "metadata": {},
   "outputs": [
    {
     "name": "stdout",
     "output_type": "stream",
     "text": [
      "19\n",
      "19\n",
      "19\n"
     ]
    }
   ],
   "source": [
    "P = SPAI.getFromFile('140', 'room_impulse_responses.mat')\n",
    "Q = SPAI.getFromFile('150', 'room_impulse_responses.mat')\n",
    "\n",
    "R = SPAI.getFromFile('145', 'room_impulse_responses.mat')"
   ]
  },
  {
   "cell_type": "code",
   "execution_count": 3,
   "id": "7facdfe1",
   "metadata": {},
   "outputs": [],
   "source": [
    "P_positions= SPAI.calculate_cloud_position(P)\n",
    "Q_positions= SPAI.calculate_cloud_position(Q)\n",
    "R_positions= SPAI.calculate_cloud_position(R)\n",
    "\n",
    "P_pressures= SPAI.calculate_cloud_pressure(P)\n",
    "Q_pressures= SPAI.calculate_cloud_pressure(Q)\n",
    "R_pressures= SPAI.calculate_cloud_pressure(R)"
   ]
  },
  {
   "cell_type": "code",
   "execution_count": 4,
   "id": "4b0a35fc",
   "metadata": {},
   "outputs": [
    {
     "name": "stdout",
     "output_type": "stream",
     "text": [
      "Dimensions of m_ones: (2400, 1)\n",
      "Dimensions of C: (2400, 2400)\n"
     ]
    }
   ],
   "source": [
    "# Define your data\n",
    "N_size = len(P)\n",
    "M_size = len(Q)\n",
    "m_ones = np.ones((M_size,1))\n",
    "n_ones = np.ones((N_size,1))\n",
    "m1_ones = np.ones((M_size+1,1))\n",
    "n1_ones = np.ones((N_size+1,1))\n",
    "\n",
    "max_num = np.ones((1,1)) * sys.maxsize\n",
    "zero = np.zeros((1,1))\n",
    "\n",
    "\n",
    "# Define the dimensions\n",
    "xi = 1.05 * np.linalg.norm(P_positions-Q_positions)**2\n",
    "C = np.zeros((N_size, M_size))\n",
    "for i, x in enumerate(P_positions):\n",
    "    for j, y in enumerate(Q_positions):\n",
    "        C[i, j] = np.sum((x - y)**2)\n",
    "\n",
    "print(\"Dimensions of m_ones:\", m_ones.shape)\n",
    "print(\"Dimensions of C:\", C.shape)\n",
    "C_bar = cp.vstack([cp.hstack([C, xi * m_ones]) , cp.hstack([xi * n_ones.T, max_num])])"
   ]
  },
  {
   "cell_type": "code",
   "execution_count": 5,
   "id": "2f706e97",
   "metadata": {},
   "outputs": [],
   "source": [
    "\n",
    "u = cp.Variable((N_size,1))\n",
    "v = cp.Variable((M_size,1))\n",
    "\n",
    "# Variables\n",
    "\n",
    "T = cp.Variable((N_size, M_size), nonneg=True)\n",
    "T_bar = cp.vstack([cp.hstack([T, u]),cp.hstack([v.T, zero])])\n",
    "\n",
    "# Objective function\n",
    "objective = cp.Minimize(cp.sum(cp.multiply(C_bar, T_bar)))\n",
    "constrain1 = cp.hstack([T, u])\n",
    "constrain2 = cp.hstack([T.T, v])\n",
    "# Constraints\n",
    "constraints = [\n",
    "    constrain1 @ m1_ones == P_pressures,\n",
    "    constrain2 @ n1_ones == Q_pressures\n",
    "]"
   ]
  },
  {
   "cell_type": "code",
   "execution_count": null,
   "id": "815ffb50",
   "metadata": {},
   "outputs": [
    {
     "name": "stderr",
     "output_type": "stream",
     "text": [
      "/home/rcw/anaconda3/lib/python3.11/site-packages/cvxpy/reductions/solvers/solving_chain.py:336: FutureWarning: \n",
      "    Your problem is being solved with the ECOS solver by default. Starting in \n",
      "    CVXPY 1.5.0, Clarabel will be used as the default solver instead. To continue \n",
      "    using ECOS, specify the ECOS solver explicitly using the ``solver=cp.ECOS`` \n",
      "    argument to the ``problem.solve`` method.\n",
      "    \n",
      "  warnings.warn(ECOS_DEPRECATION_MSG, FutureWarning)\n"
     ]
    }
   ],
   "source": [
    "\n",
    "# Formulate and solve the problem\n",
    "problem = cp.Problem(objective, constraints)\n",
    "problem.solve()\n",
    "\n",
    "# Display results\n",
    "print(\"Optimal value:\", problem.value)\n",
    "print(\"Optimal transport matrix T:\")\n",
    "print(T.value)\n"
   ]
  },
  {
   "cell_type": "code",
   "execution_count": null,
   "id": "ecc62de7",
   "metadata": {},
   "outputs": [],
   "source": [
    "print(u.value)"
   ]
  },
  {
   "cell_type": "code",
   "execution_count": null,
   "id": "64797671",
   "metadata": {},
   "outputs": [],
   "source": [
    "print(len(P))"
   ]
  },
  {
   "cell_type": "code",
   "execution_count": null,
   "id": "59320252",
   "metadata": {},
   "outputs": [],
   "source": [
    "print(len(P_positions))"
   ]
  },
  {
   "cell_type": "code",
   "execution_count": null,
   "id": "6638bbf5",
   "metadata": {},
   "outputs": [],
   "source": [
    "kappa = 0.5"
   ]
  },
  {
   "cell_type": "code",
   "execution_count": null,
   "id": "25f32e34",
   "metadata": {},
   "outputs": [],
   "source": [
    "# Initialize the variables\n",
    "u_vec = u.value\n",
    "v_vec = v.value\n",
    "T_matrix = T.value\n",
    "#     K = len(P_positions) + len(Q_positions)  # total number of points after interpolation\n",
    "interpolated_points = []\n",
    "\n",
    "# Copy the transport plan\n",
    "T_prime = np.copy(T_matrix)\n",
    "\n",
    "# Start with the algorithm\n",
    "#k index from 0\n",
    "k = 0\n",
    "for i in range(len(u_vec)):\n",
    "    if u_vec[i] > 0:\n",
    "        if np.linalg.norm(T_matrix[i,: ], ord=1) == 0:  # Check for vanishing point\n",
    "            r_k = (1 - kappa) * u_vec[i]\n",
    "            z_k = P_positions[i]\n",
    "            interpolated_points.append((r_k, z_k))\n",
    "            k += 1\n",
    "        else:\n",
    "            T_prime[i, :] = T_prime[i, :] + (1 - kappa) * u_vec[i] * T_matrix[i, :] / np.linalg.norm(T_matrix[i, :].T, ord=1)\n",
    "for j in range(len(v_vec)):\n",
    "    if v_vec[j] > 0:\n",
    "        if np.linalg.norm(T_matrix[:,j ], ord=1) == 0:  # Check for appearing point\n",
    "            r_k = kappa * v_vec[j]\n",
    "            z_k = Q_positions[j]\n",
    "            interpolated_points.append((r_k, z_k))\n",
    "            k += 1\n",
    "        else:\n",
    "            T_prime[:, j] = T_prime[:, j] + kappa * v_vec[j] * T_matrix[:, j] / np.linalg.norm(T_matrix[:, j], ord=1)\n",
    "\n",
    "for i in range(len(P_positions)):\n",
    "    for j in range(len(Q_positions)):\n",
    "        if T_prime[i, j] > 0:  # Check for moving point\n",
    "            r_k = T_prime[i, j]\n",
    "            z_k = (1 - kappa) * P_positions[i] + kappa * Q_positions[j]\n",
    "            interpolated_points.append((r_k, z_k))\n",
    "            k += 1\n",
    "                "
   ]
  },
  {
   "cell_type": "code",
   "execution_count": null,
   "id": "c539c062",
   "metadata": {},
   "outputs": [],
   "source": [
    "# After calculating interpolated points and pressures, construct the final cloud\n",
    "interpolated_cloud = [{'position': tuple(z), 'pressure': r} for r, z in interpolated_points]\n",
    "\n",
    "for point in interpolated_cloud[:5]:\n",
    "    print(point)"
   ]
  },
  {
   "cell_type": "code",
   "execution_count": null,
   "id": "111a2637",
   "metadata": {},
   "outputs": [],
   "source": [
    "for point in interpolated_points[:5]:\n",
    "    print(point)"
   ]
  },
  {
   "cell_type": "code",
   "execution_count": null,
   "id": "4b31ccad",
   "metadata": {},
   "outputs": [],
   "source": [
    "R = SPAI.getFromFile('145', 'room_impulse_responses.mat')\n",
    "\n",
    "speed_of_sound = 343\n",
    "sampling_rate = 48000\n",
    "max_simulation_time = 0.1  # in seconds"
   ]
  },
  {
   "cell_type": "code",
   "execution_count": null,
   "id": "b016f3ea",
   "metadata": {},
   "outputs": [],
   "source": [
    "\n",
    "t1, h_t1 = SPAI.calculate_omnidirectional_RIR(interpolated_cloud, speed_of_sound, sampling_rate, max_simulation_time)\n",
    "t2, h_t2 = SPAI.calculate_omnidirectional_RIR(R, speed_of_sound, sampling_rate, max_simulation_time)\n",
    "\n",
    "# Plot the RIR\n",
    "plt.figure()\n",
    "plt.subplot(2, 1, 1)\n",
    "plt.plot(t1, h_t1)\n",
    "plt.xlabel('Time [s]')\n",
    "plt.ylabel('Amplitude')\n",
    "plt.title('Simulated Omnidirectional RIR of interpolated point cloud betweem positions 140 and 150')\n",
    "\n",
    "plt.subplot(2, 1, 2)\n",
    "plt.plot(t2, h_t2)\n",
    "plt.xlabel('Time [s]')\n",
    "plt.ylabel('Amplitude')\n",
    "plt.title('Real RIR of position 145')\n",
    "plt.show()"
   ]
  },
  {
   "cell_type": "code",
   "execution_count": null,
   "id": "ac1bf24b",
   "metadata": {},
   "outputs": [],
   "source": [
    "# Plot the RIR\n",
    "plt.figure()\n",
    "plt.subplot(2, 1, 1)\n",
    "plt.ylim(0,1000)\n",
    "plt.plot(t1, h_t1)\n",
    "plt.xlabel('Time [s]')\n",
    "plt.ylabel('Amplitude')\n",
    "plt.title('Simulated Omnidirectional RIR of interpolated point cloud betweem positions 140 and 150')\n",
    "\n",
    "plt.subplot(2, 1, 2)\n",
    "plt.ylim(0,1000)\n",
    "plt.plot(t2, h_t2)\n",
    "plt.xlabel('Time [s]')\n",
    "plt.ylabel('Amplitude')\n",
    "plt.title('Real RIR of position 145')\n",
    "plt.show()"
   ]
  },
  {
   "cell_type": "code",
   "execution_count": null,
   "id": "86597ccb",
   "metadata": {},
   "outputs": [],
   "source": []
  }
 ],
 "metadata": {
  "kernelspec": {
   "display_name": "Python 3 (ipykernel)",
   "language": "python",
   "name": "python3"
  },
  "language_info": {
   "codemirror_mode": {
    "name": "ipython",
    "version": 3
   },
   "file_extension": ".py",
   "mimetype": "text/x-python",
   "name": "python",
   "nbconvert_exporter": "python",
   "pygments_lexer": "ipython3",
   "version": "3.11.5"
  }
 },
 "nbformat": 4,
 "nbformat_minor": 5
}
